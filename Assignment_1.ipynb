{
 "cells": [
  {
   "cell_type": "code",
   "execution_count": 14,
   "id": "a4c88845-1141-4beb-a7a9-959462cb33be",
   "metadata": {},
   "outputs": [],
   "source": [
    "# Q1.Create one variable containing following type of data:"
   ]
  },
  {
   "cell_type": "code",
   "execution_count": 28,
   "id": "058a959b-c849-4031-806b-5fb15d6db54d",
   "metadata": {},
   "outputs": [],
   "source": [
    "a = \"tatheer\", [\"pwskills\"], 22.22, (1,2,3,\"tatheer\",45.56,[4,5,6])"
   ]
  },
  {
   "cell_type": "code",
   "execution_count": 17,
   "id": "522525da-9dd7-4659-9233-108a3bd828e6",
   "metadata": {},
   "outputs": [
    {
     "data": {
      "text/plain": [
       "str"
      ]
     },
     "execution_count": 17,
     "metadata": {},
     "output_type": "execute_result"
    }
   ],
   "source": [
    "type(a[0])"
   ]
  },
  {
   "cell_type": "code",
   "execution_count": 19,
   "id": "b0883278-6fa2-4e43-acd4-71e83fca0ffd",
   "metadata": {},
   "outputs": [
    {
     "data": {
      "text/plain": [
       "list"
      ]
     },
     "execution_count": 19,
     "metadata": {},
     "output_type": "execute_result"
    }
   ],
   "source": [
    "type(a[1])"
   ]
  },
  {
   "cell_type": "code",
   "execution_count": 21,
   "id": "aeb79916-9f4c-430c-b8b3-92ca90271bc0",
   "metadata": {},
   "outputs": [
    {
     "data": {
      "text/plain": [
       "float"
      ]
     },
     "execution_count": 21,
     "metadata": {},
     "output_type": "execute_result"
    }
   ],
   "source": [
    "type(a[2])"
   ]
  },
  {
   "cell_type": "code",
   "execution_count": 31,
   "id": "33832f0c-7f98-49ba-93e8-d1be10ae49b8",
   "metadata": {},
   "outputs": [
    {
     "data": {
      "text/plain": [
       "tuple"
      ]
     },
     "execution_count": 31,
     "metadata": {},
     "output_type": "execute_result"
    }
   ],
   "source": [
    "type(a[3])"
   ]
  },
  {
   "cell_type": "code",
   "execution_count": 32,
   "id": "3fac5831-d876-47a6-a352-06620491426a",
   "metadata": {},
   "outputs": [],
   "source": [
    "# Q2.Given are some following variables containing data: "
   ]
  },
  {
   "cell_type": "code",
   "execution_count": 33,
   "id": "2d46ab41-1199-4cc6-9829-34f10dcf28b5",
   "metadata": {},
   "outputs": [],
   "source": [
    "var1 = ''\n",
    "var2 ='[DS,ML,Python]'\n",
    "var3 = ['DS','ML','Python']\n",
    "var4 = 1."
   ]
  },
  {
   "cell_type": "code",
   "execution_count": 37,
   "id": "cd8d2f04-ec56-45a5-8b15-93cfd76c00e3",
   "metadata": {},
   "outputs": [
    {
     "data": {
      "text/plain": [
       "str"
      ]
     },
     "execution_count": 37,
     "metadata": {},
     "output_type": "execute_result"
    }
   ],
   "source": [
    "type(var1)"
   ]
  },
  {
   "cell_type": "code",
   "execution_count": 39,
   "id": "4ee24068-d6ee-48fd-ad1c-d103781df758",
   "metadata": {},
   "outputs": [
    {
     "data": {
      "text/plain": [
       "str"
      ]
     },
     "execution_count": 39,
     "metadata": {},
     "output_type": "execute_result"
    }
   ],
   "source": [
    "type(var2)"
   ]
  },
  {
   "cell_type": "code",
   "execution_count": 41,
   "id": "5fa62df3-5871-4f25-86a0-077d55073aea",
   "metadata": {},
   "outputs": [
    {
     "data": {
      "text/plain": [
       "list"
      ]
     },
     "execution_count": 41,
     "metadata": {},
     "output_type": "execute_result"
    }
   ],
   "source": [
    "type(var3)"
   ]
  },
  {
   "cell_type": "code",
   "execution_count": 42,
   "id": "6813cf5e-590c-4105-ac73-659ad3939673",
   "metadata": {},
   "outputs": [
    {
     "data": {
      "text/plain": [
       "float"
      ]
     },
     "execution_count": 42,
     "metadata": {},
     "output_type": "execute_result"
    }
   ],
   "source": [
    "type(var4)"
   ]
  },
  {
   "cell_type": "code",
   "execution_count": 43,
   "id": "fe75f510-4f9e-4a86-a1b1-0f13d14343a7",
   "metadata": {},
   "outputs": [],
   "source": [
    "# Q3.Explain the use of the following operators using an example:"
   ]
  },
  {
   "cell_type": "code",
   "execution_count": 47,
   "id": "97969ebd-85ab-4133-ae10-9106a7690927",
   "metadata": {},
   "outputs": [],
   "source": [
    "#Answer (i). This / operator using for Dividing a value and its name is Division operator."
   ]
  },
  {
   "cell_type": "code",
   "execution_count": 53,
   "id": "2e254b05-42ae-4d32-89eb-f2dc28f26975",
   "metadata": {},
   "outputs": [
    {
     "name": "stdout",
     "output_type": "stream",
     "text": [
      "0.2\n"
     ]
    }
   ],
   "source": [
    "print(2 / 10)"
   ]
  },
  {
   "cell_type": "code",
   "execution_count": null,
   "id": "e9212ddb-cd9e-4f1c-9775-91c8e7a07520",
   "metadata": {},
   "outputs": [],
   "source": [
    "#Answer (ii).  This % operator calculate the remainder when one number is divided by another."
   ]
  },
  {
   "cell_type": "code",
   "execution_count": 78,
   "id": "d7dc3408-fa57-4e6a-9ea1-d94117c3a907",
   "metadata": {},
   "outputs": [
    {
     "name": "stdout",
     "output_type": "stream",
     "text": [
      "1\n"
     ]
    }
   ],
   "source": [
    "dividend = 10\n",
    "divisor = 3\n",
    "remainder = dividend % divisor\n",
    "print(dividend % divisor)"
   ]
  },
  {
   "cell_type": "code",
   "execution_count": 79,
   "id": "901d4b15-c76f-4c6f-aa0f-b63dd4b69602",
   "metadata": {},
   "outputs": [],
   "source": [
    "#Answer (iii). This // operator is used to divide two numbers and get the whole number part of the result."
   ]
  },
  {
   "cell_type": "code",
   "execution_count": 84,
   "id": "b9582e1c-3577-4242-a381-7e3fa1a9cc31",
   "metadata": {},
   "outputs": [
    {
     "name": "stdout",
     "output_type": "stream",
     "text": [
      "6\n"
     ]
    }
   ],
   "source": [
    "dividend = 12\n",
    "divisor = 2\n",
    "quotient = dividend // divisor\n",
    "print(dividend // divisor)"
   ]
  },
  {
   "cell_type": "code",
   "execution_count": 92,
   "id": "27bc8ffa-f938-451c-9b90-fb9b9f099ef3",
   "metadata": {},
   "outputs": [],
   "source": [
    "#Answer (iv). This ** operator used to raise a number to a certain power."
   ]
  },
  {
   "cell_type": "code",
   "execution_count": null,
   "id": "509223e4-6033-4920-b2e3-4a9525d5d7e8",
   "metadata": {},
   "outputs": [],
   "source": [
    "# 2*1=2 , 2*2=4 , 4*2=8"
   ]
  },
  {
   "cell_type": "code",
   "execution_count": 95,
   "id": "f6a130cf-2bee-47e9-86ce-3cae44a95737",
   "metadata": {},
   "outputs": [
    {
     "name": "stdout",
     "output_type": "stream",
     "text": [
      "8\n"
     ]
    }
   ],
   "source": [
    "base = 2\n",
    "exponent = 3\n",
    "print(base ** exponent)"
   ]
  },
  {
   "cell_type": "code",
   "execution_count": null,
   "id": "580f6f89-43d9-41a0-84c9-601a1bd2583c",
   "metadata": {},
   "outputs": [],
   "source": [
    "# Q4. Create a list of length 10 of your choice containing multiple types of data. Using for loop print the element and its data type."
   ]
  },
  {
   "cell_type": "code",
   "execution_count": 1,
   "id": "89b27f15-0186-453f-8070-51a2a0d2936c",
   "metadata": {},
   "outputs": [],
   "source": [
    "l = [1,2,3,4,5,6,7,\"tatheer\",55.55,True]"
   ]
  },
  {
   "cell_type": "code",
   "execution_count": 4,
   "id": "45bc5a8d-f464-4ae5-b16c-66d17d8417e9",
   "metadata": {},
   "outputs": [
    {
     "data": {
      "text/plain": [
       "[1, 2, 3, 4, 5, 6, 7, 'tatheer', 55.55, True]"
      ]
     },
     "execution_count": 4,
     "metadata": {},
     "output_type": "execute_result"
    }
   ],
   "source": [
    "l"
   ]
  },
  {
   "cell_type": "code",
   "execution_count": 6,
   "id": "a9d7b8ff-ca19-4b8c-8bd3-095c8f53290e",
   "metadata": {},
   "outputs": [
    {
     "name": "stdout",
     "output_type": "stream",
     "text": [
      "1\n",
      "<class 'int'>\n",
      "2\n",
      "<class 'int'>\n",
      "3\n",
      "<class 'int'>\n",
      "4\n",
      "<class 'int'>\n",
      "5\n",
      "<class 'int'>\n",
      "6\n",
      "<class 'int'>\n",
      "7\n",
      "<class 'int'>\n",
      "tatheer\n",
      "<class 'str'>\n",
      "55.55\n",
      "<class 'float'>\n",
      "True\n",
      "<class 'bool'>\n"
     ]
    }
   ],
   "source": [
    "for i in l:\n",
    "    print(i)\n",
    "    print(type(i))"
   ]
  },
  {
   "cell_type": "code",
   "execution_count": 8,
   "id": "736feff1-f1d2-4a12-b117-cd9db40e2909",
   "metadata": {},
   "outputs": [],
   "source": [
    "# Q5. Using a while loop, verify if the number A is purely divisible by number B and if so then how many times it can be divisible."
   ]
  },
  {
   "cell_type": "code",
   "execution_count": 16,
   "id": "3434a85c-5b74-4aac-9fc8-6ac1b69d091f",
   "metadata": {},
   "outputs": [
    {
     "name": "stdin",
     "output_type": "stream",
     "text": [
      "Enter the number A 10\n",
      "Enter the number B 2\n"
     ]
    },
    {
     "name": "stdout",
     "output_type": "stream",
     "text": [
      "5 is the remainder, so 2 does not purely divide 5.\n"
     ]
    }
   ],
   "source": [
    "A = int(input(\"Enter the number A\"))\n",
    "B = int(input(\"Enter the number B\"))\n",
    "\n",
    "count = 0\n",
    "while A % B == 0:\n",
    "    A = A // B \n",
    "    count += 1\n",
    "    \n",
    "if A == 0:\n",
    "    print(f\"{count} times\")\n",
    "else:\n",
    "    print(f\"{A} is the remainder, so {B} does not purely divide {A}.\")"
   ]
  },
  {
   "cell_type": "code",
   "execution_count": 17,
   "id": "1a760050-4ad8-4569-ae62-e87d57afa570",
   "metadata": {},
   "outputs": [],
   "source": [
    "# Q6. Create a list containing 25 int type data. Using for loop and if-else condition print if the element is divisible by 3 or not."
   ]
  },
  {
   "cell_type": "code",
   "execution_count": 19,
   "id": "40acc37b-cd6c-44c6-b04f-ddaf27379322",
   "metadata": {},
   "outputs": [
    {
     "name": "stdout",
     "output_type": "stream",
     "text": [
      "1 is not divisible 3.\n",
      "2 is not divisible 3.\n",
      "3 is divisible by 3.\n",
      "4 is not divisible 3.\n",
      "5 is not divisible 3.\n",
      "6 is divisible by 3.\n",
      "7 is not divisible 3.\n",
      "8 is not divisible 3.\n",
      "9 is divisible by 3.\n",
      "10 is not divisible 3.\n",
      "11 is not divisible 3.\n",
      "12 is divisible by 3.\n",
      "13 is not divisible 3.\n",
      "14 is not divisible 3.\n",
      "15 is divisible by 3.\n",
      "16 is not divisible 3.\n",
      "17 is not divisible 3.\n",
      "18 is divisible by 3.\n",
      "19 is not divisible 3.\n",
      "20 is not divisible 3.\n",
      "21 is divisible by 3.\n",
      "22 is not divisible 3.\n",
      "23 is not divisible 3.\n",
      "24 is divisible by 3.\n",
      "25 is not divisible 3.\n"
     ]
    }
   ],
   "source": [
    "l = [1,2,3,4,5,6,7,8,9,10,11,12,13,14,15,16,17,18,19,20,21,22,23,24,25]\n",
    "\n",
    "for i in l:\n",
    "    if i % 3 == 0:\n",
    "        print(f\"{i} is divisible by 3.\")\n",
    "    else:\n",
    "        print(f\"{i} is not divisible 3.\")"
   ]
  },
  {
   "cell_type": "code",
   "execution_count": 1,
   "id": "e9a60cf9-cdd8-4dd4-8f53-513c83c260c0",
   "metadata": {},
   "outputs": [],
   "source": [
    "# Q7. What do you understand about mutable and immutable data types? Give examples for both showing this properties."
   ]
  },
  {
   "cell_type": "code",
   "execution_count": 7,
   "id": "4230cc39-da96-4af7-ad57-d89adeba9ff2",
   "metadata": {},
   "outputs": [],
   "source": [
    "# Mutable :- Mutable data types are those that can be changed and modified after they are created."
   ]
  },
  {
   "cell_type": "code",
   "execution_count": 10,
   "id": "496d574b-43d5-448a-a9a2-b37d92dcd6b1",
   "metadata": {},
   "outputs": [],
   "source": [
    "l = [1,2,3,\"tatheer\",True,34.55]"
   ]
  },
  {
   "cell_type": "code",
   "execution_count": 12,
   "id": "b60f39d0-9b3b-4866-8f7b-99f7d6b62acc",
   "metadata": {},
   "outputs": [],
   "source": [
    "l[3] = \"ashish\""
   ]
  },
  {
   "cell_type": "code",
   "execution_count": 13,
   "id": "54d6aabc-e563-4dab-9d0a-f496d84e73a7",
   "metadata": {},
   "outputs": [
    {
     "data": {
      "text/plain": [
       "[1, 2, 3, 'ashish', True, 34.55]"
      ]
     },
     "execution_count": 13,
     "metadata": {},
     "output_type": "execute_result"
    }
   ],
   "source": [
    "l"
   ]
  },
  {
   "cell_type": "code",
   "execution_count": 17,
   "id": "1d26a43a-f6ed-46c2-8ec6-616a69cdf139",
   "metadata": {},
   "outputs": [],
   "source": [
    "# Immutable :- Immutable data types can't be changed once they are created."
   ]
  },
  {
   "cell_type": "code",
   "execution_count": 20,
   "id": "dc718d91-cf70-422e-a22f-75499dbb5d5c",
   "metadata": {},
   "outputs": [],
   "source": [
    "t = \"tatheer\""
   ]
  },
  {
   "cell_type": "code",
   "execution_count": 21,
   "id": "7332a38e-010e-4a94-b566-cf226bdf3878",
   "metadata": {},
   "outputs": [
    {
     "data": {
      "text/plain": [
       "'tatheer'"
      ]
     },
     "execution_count": 21,
     "metadata": {},
     "output_type": "execute_result"
    }
   ],
   "source": [
    "t"
   ]
  },
  {
   "cell_type": "code",
   "execution_count": 23,
   "id": "2fcd0273-58e6-4209-8949-31760c78844d",
   "metadata": {},
   "outputs": [
    {
     "ename": "TypeError",
     "evalue": "'str' object does not support item assignment",
     "output_type": "error",
     "traceback": [
      "\u001b[0;31m---------------------------------------------------------------------------\u001b[0m",
      "\u001b[0;31mTypeError\u001b[0m                                 Traceback (most recent call last)",
      "Cell \u001b[0;32mIn[23], line 1\u001b[0m\n\u001b[0;32m----> 1\u001b[0m \u001b[43mt\u001b[49m\u001b[43m[\u001b[49m\u001b[38;5;241;43m2\u001b[39;49m\u001b[43m]\u001b[49m \u001b[38;5;241m=\u001b[39m \u001b[38;5;124m\"\u001b[39m\u001b[38;5;124ms\u001b[39m\u001b[38;5;124m\"\u001b[39m\n",
      "\u001b[0;31mTypeError\u001b[0m: 'str' object does not support item assignment"
     ]
    }
   ],
   "source": [
    "t[2] = \"s\""
   ]
  }
 ],
 "metadata": {
  "kernelspec": {
   "display_name": "Python 3 (ipykernel)",
   "language": "python",
   "name": "python3"
  },
  "language_info": {
   "codemirror_mode": {
    "name": "ipython",
    "version": 3
   },
   "file_extension": ".py",
   "mimetype": "text/x-python",
   "name": "python",
   "nbconvert_exporter": "python",
   "pygments_lexer": "ipython3",
   "version": "3.10.8"
  }
 },
 "nbformat": 4,
 "nbformat_minor": 5
}
